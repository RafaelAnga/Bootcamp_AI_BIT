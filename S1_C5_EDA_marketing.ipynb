{
  "cells": [
    {
      "cell_type": "markdown",
      "metadata": {
        "id": "view-in-github",
        "colab_type": "text"
      },
      "source": [
        "<a href=\"https://colab.research.google.com/github/RafaelAnga/Bootcamp_AI_BIT/blob/main/S1_C5_EDA_marketing.ipynb\" target=\"_parent\"><img src=\"https://colab.research.google.com/assets/colab-badge.svg\" alt=\"Open In Colab\"/></a>"
      ]
    },
    {
      "cell_type": "markdown",
      "metadata": {
        "id": "TounCUP0Uoyq"
      },
      "source": []
    },
    {
      "cell_type": "markdown",
      "metadata": {
        "id": "jR_ECY3wtmHM"
      },
      "source": [
        "EDA: Exploratory Data Analysis (Analysis Exploratorio de Datos)\n",
        "\n",
        "AcceptedCmp1: 1 if customer accepted the offer in the 1st campaign, 0 otherwise.\n",
        "AcceptedCmp2: 1 if customer accepted the offer in the 2nd campaign, 0 otherwise.\n",
        "AcceptedCmp3: 1 if customer accepted the offer in the 3rd campaign, 0 otherwise.\n",
        "AcceptedCmp4: 1 if customer accepted the offer in the 4th campaign, 0 otherwise.\n",
        "AcceptedCmp5: 1 if customer accepted the offer in the 5th campaign, 0 otherwise.\n",
        "Response (target): 1 if customer accepted the offer in the last campaign, 0 otherwise.\n",
        "Complain: 1 if customer complained in the last 2 years.\n",
        "DtCustomer: Date of customer’s enrollment with the company.\n",
        "Education: Customer’s level of education.\n",
        "Marital: Customer’s marital status.\n",
        "Kidhome: Number of small children in customer’s household.\n",
        "Teenhome: Number of teenagers in customer’s household.\n",
        "Income: Customer’s yearly household income.\n",
        "MntFishProducts: Amount spent on fish products in the last 2 years.\n",
        "MntMeatProducts: Amount spent on meat products in the last 2 years.\n",
        "MntFruits: Amount spent on fruit products in the last 2 years.\n",
        "MntSweetProducts: Amount spent on sweet products in the last 2 years.\n",
        "MntWines: Amount spent on wine products in the last 2 years.\n",
        "MntGoldProds: Amount spent on gold products in the last 2 years.\n",
        "NumDealsPurchases: Number of purchases made with a discount.\n",
        "NumCatalogPurchases: Number of purchases made using a catalog.\n",
        "NumStorePurchases: Number of purchases made directly in stores.\n",
        "NumWebPurchases: Number of purchases made through the company’s website.\n",
        "NumWebVisitsMonth: Number of visits to the company’s website in the last month.\n",
        "Recency: Number of days since the last purchase."
      ]
    },
    {
      "cell_type": "code",
      "execution_count": null,
      "metadata": {
        "colab": {
          "background_save": true
        },
        "id": "Idl1MDH1tgdA"
      },
      "outputs": [],
      "source": [
        "import pandas as pd  #Manejo de datos\n",
        "import numpy as np #Manejo de operaciones entre datos, y columnas\n",
        "import matplotlib.pyplot as plt #Graficos\n",
        "import seaborn as sns #Graficas\n"
      ]
    },
    {
      "cell_type": "code",
      "execution_count": null,
      "metadata": {
        "colab": {
          "background_save": true,
          "base_uri": "https://localhost:8080/"
        },
        "id": "VjQPL-qc8Ukr",
        "outputId": "24965107-ff1d-4b67-ab82-655c355dfc91"
      },
      "outputs": [
        {
          "ename": "ValueError",
          "evalue": "mount failed",
          "output_type": "error",
          "traceback": [
            "\u001b[0;31m---------------------------------------------------------------------------\u001b[0m",
            "\u001b[0;31mValueError\u001b[0m                                Traceback (most recent call last)",
            "\u001b[0;32m<ipython-input-2-4a2c902c7e21>\u001b[0m in \u001b[0;36m<cell line: 2>\u001b[0;34m()\u001b[0m\n\u001b[1;32m      1\u001b[0m \u001b[0;32mfrom\u001b[0m \u001b[0mgoogle\u001b[0m\u001b[0;34m.\u001b[0m\u001b[0mcolab\u001b[0m \u001b[0;32mimport\u001b[0m \u001b[0mdrive\u001b[0m \u001b[0;31m#connectando con google drive\u001b[0m\u001b[0;34m\u001b[0m\u001b[0;34m\u001b[0m\u001b[0m\n\u001b[0;32m----> 2\u001b[0;31m \u001b[0mdrive\u001b[0m\u001b[0;34m.\u001b[0m\u001b[0mmount\u001b[0m\u001b[0;34m(\u001b[0m\u001b[0;34m'/content/drive'\u001b[0m\u001b[0;34m)\u001b[0m\u001b[0;34m\u001b[0m\u001b[0;34m\u001b[0m\u001b[0m\n\u001b[0m\u001b[1;32m      3\u001b[0m \u001b[0;32mimport\u001b[0m \u001b[0mos\u001b[0m \u001b[0;31m#libreria necesaria para la ruta de la carpeta\u001b[0m\u001b[0;34m\u001b[0m\u001b[0;34m\u001b[0m\u001b[0m\n\u001b[1;32m      4\u001b[0m \u001b[0mos\u001b[0m\u001b[0;34m.\u001b[0m\u001b[0mchdir\u001b[0m\u001b[0;34m(\u001b[0m\u001b[0;34m'/content/drive/MyDrive/Bootcamp AI/DataSet'\u001b[0m\u001b[0;34m)\u001b[0m\u001b[0;34m\u001b[0m\u001b[0;34m\u001b[0m\u001b[0m\n\u001b[1;32m      5\u001b[0m \u001b[0;34m\u001b[0m\u001b[0m\n",
            "\u001b[0;32m/usr/local/lib/python3.10/dist-packages/google/colab/drive.py\u001b[0m in \u001b[0;36mmount\u001b[0;34m(mountpoint, force_remount, timeout_ms, readonly)\u001b[0m\n\u001b[1;32m     98\u001b[0m \u001b[0;32mdef\u001b[0m \u001b[0mmount\u001b[0m\u001b[0;34m(\u001b[0m\u001b[0mmountpoint\u001b[0m\u001b[0;34m,\u001b[0m \u001b[0mforce_remount\u001b[0m\u001b[0;34m=\u001b[0m\u001b[0;32mFalse\u001b[0m\u001b[0;34m,\u001b[0m \u001b[0mtimeout_ms\u001b[0m\u001b[0;34m=\u001b[0m\u001b[0;36m120000\u001b[0m\u001b[0;34m,\u001b[0m \u001b[0mreadonly\u001b[0m\u001b[0;34m=\u001b[0m\u001b[0;32mFalse\u001b[0m\u001b[0;34m)\u001b[0m\u001b[0;34m:\u001b[0m\u001b[0;34m\u001b[0m\u001b[0;34m\u001b[0m\u001b[0m\n\u001b[1;32m     99\u001b[0m   \u001b[0;34m\"\"\"Mount your Google Drive at the specified mountpoint path.\"\"\"\u001b[0m\u001b[0;34m\u001b[0m\u001b[0;34m\u001b[0m\u001b[0m\n\u001b[0;32m--> 100\u001b[0;31m   return _mount(\n\u001b[0m\u001b[1;32m    101\u001b[0m       \u001b[0mmountpoint\u001b[0m\u001b[0;34m,\u001b[0m\u001b[0;34m\u001b[0m\u001b[0;34m\u001b[0m\u001b[0m\n\u001b[1;32m    102\u001b[0m       \u001b[0mforce_remount\u001b[0m\u001b[0;34m=\u001b[0m\u001b[0mforce_remount\u001b[0m\u001b[0;34m,\u001b[0m\u001b[0;34m\u001b[0m\u001b[0;34m\u001b[0m\u001b[0m\n",
            "\u001b[0;32m/usr/local/lib/python3.10/dist-packages/google/colab/drive.py\u001b[0m in \u001b[0;36m_mount\u001b[0;34m(mountpoint, force_remount, timeout_ms, ephemeral, readonly)\u001b[0m\n\u001b[1;32m    275\u001b[0m             \u001b[0;34m'https://research.google.com/colaboratory/faq.html#drive-timeout'\u001b[0m\u001b[0;34m\u001b[0m\u001b[0;34m\u001b[0m\u001b[0m\n\u001b[1;32m    276\u001b[0m         )\n\u001b[0;32m--> 277\u001b[0;31m       \u001b[0;32mraise\u001b[0m \u001b[0mValueError\u001b[0m\u001b[0;34m(\u001b[0m\u001b[0;34m'mount failed'\u001b[0m \u001b[0;34m+\u001b[0m \u001b[0mextra_reason\u001b[0m\u001b[0;34m)\u001b[0m\u001b[0;34m\u001b[0m\u001b[0;34m\u001b[0m\u001b[0m\n\u001b[0m\u001b[1;32m    278\u001b[0m     \u001b[0;32melif\u001b[0m \u001b[0mcase\u001b[0m \u001b[0;34m==\u001b[0m \u001b[0;36m4\u001b[0m\u001b[0;34m:\u001b[0m\u001b[0;34m\u001b[0m\u001b[0;34m\u001b[0m\u001b[0m\n\u001b[1;32m    279\u001b[0m       \u001b[0;31m# Terminate the DriveFS binary before killing bash.\u001b[0m\u001b[0;34m\u001b[0m\u001b[0;34m\u001b[0m\u001b[0m\n",
            "\u001b[0;31mValueError\u001b[0m: mount failed"
          ]
        }
      ],
      "source": [
        "from google.colab import drive #connectando con google drive\n",
        "drive.mount('/content/drive')\n",
        "import os #libreria necesaria para la ruta de la carpeta\n",
        "os.chdir('/content/drive/MyDrive/Bootcamp AI/DataSet')\n",
        "\n",
        "#mostrat lista de archivos\n",
        "os.listdir()"
      ]
    },
    {
      "cell_type": "code",
      "execution_count": null,
      "metadata": {
        "colab": {
          "background_save": true
        },
        "id": "qByQqrPY7_Ug"
      },
      "outputs": [],
      "source": [
        "df = pd.read_excel('marketing_campaign.xlsx')"
      ]
    },
    {
      "cell_type": "code",
      "execution_count": null,
      "metadata": {
        "colab": {
          "background_save": true
        },
        "id": "CJaURMBG9C0f"
      },
      "outputs": [],
      "source": [
        "# This is used in order to fix data sets in csv... use ';'\n",
        "#df2 = pd.read_csv('marketing_campaign.csv', sep =';')"
      ]
    },
    {
      "cell_type": "code",
      "execution_count": null,
      "metadata": {
        "colab": {
          "background_save": true
        },
        "id": "sflwXb5P_NTN"
      },
      "outputs": [],
      "source": [
        "#Informacion del numero\n",
        "#Columnas\n",
        "#df.info()\n",
        "df2.info()"
      ]
    },
    {
      "cell_type": "code",
      "execution_count": null,
      "metadata": {
        "colab": {
          "background_save": true
        },
        "id": "ywOOm60LC7ar"
      },
      "outputs": [],
      "source": [
        "#describe me entrega resumen solo de los atributos numericos\n",
        "df.describe()"
      ]
    },
    {
      "cell_type": "code",
      "execution_count": null,
      "metadata": {
        "colab": {
          "background_save": true
        },
        "id": "DT_rOXcEEY76"
      },
      "outputs": [],
      "source": [
        "# Que tamano tiene el data set?\n",
        "df.shape"
      ]
    },
    {
      "cell_type": "code",
      "execution_count": null,
      "metadata": {
        "colab": {
          "background_save": true
        },
        "id": "MslMDYYSEj2a"
      },
      "outputs": [],
      "source": [
        "#Que tcategorias de educacion?\n",
        "print(df['Education'].unique())\n",
        "\n",
        "#Observa que hay 5 categorias en educacion\n",
        "#un atributo Categorico tiene clases finitas"
      ]
    },
    {
      "cell_type": "code",
      "execution_count": null,
      "metadata": {
        "colab": {
          "background_save": true
        },
        "id": "S39BnvUBFZdq"
      },
      "outputs": [],
      "source": [
        "print(df['Marital_Status'].unique())\n",
        "\n",
        "#Observa: para estado civil hay 8 categorias"
      ]
    },
    {
      "cell_type": "code",
      "execution_count": null,
      "metadata": {
        "colab": {
          "background_save": true
        },
        "id": "pKMOeA8EG0zS"
      },
      "outputs": [],
      "source": [
        "# que edad tienen los clientes?\n",
        "\n",
        "#tengo el atributo Año de Nacimiento: Year_Birth\n",
        "from datetime import date #in order to import current year\n",
        "current_year = date.today().year\n",
        "#df['Age'] = current_year - df['Year_Birth']\n",
        "df['Age'] = 2014- df['Year_Birth']\n"
      ]
    },
    {
      "cell_type": "code",
      "execution_count": null,
      "metadata": {
        "colab": {
          "background_save": true
        },
        "id": "y_BC9ExvLyyf"
      },
      "outputs": [],
      "source": [
        "plt.figure(figsize=(5,3))\n",
        "\n",
        "sns.distplot(df.Age)\n",
        "plt.figure(figsize=(5,3))\n",
        "sns.boxplot(x=df['Age'])"
      ]
    },
    {
      "cell_type": "code",
      "execution_count": null,
      "metadata": {
        "colab": {
          "background_save": true
        },
        "id": "tzv9O9sjUIE4"
      },
      "outputs": [],
      "source": [
        "#How to find Inter Quartile Range\n",
        "Q1 = df['Age'].quantile(0.25)\n",
        "Q3 = df['Age'].quantile(0.75)\n",
        "IQR = Q3 - Q1\n",
        "# ~ in boolean, represents negation\n",
        "# | represents the OR\n",
        "# & represents AND\n",
        "# This is used to remove the outliers\n",
        "df = df[~((df['Age'] < (Q1-1.5*IQR))|(df['Age'] > (Q3+1.5*IQR)))]"
      ]
    },
    {
      "cell_type": "code",
      "execution_count": null,
      "metadata": {
        "colab": {
          "background_save": true
        },
        "id": "DS5aZ2tULBvp"
      },
      "outputs": [],
      "source": [
        "plt.figure(figsize=(5,3))\n",
        "# subplot (filas, columnas, posicion)\n",
        "\n",
        "plt.subplot(2,1,1)\n",
        "sns.boxplot(x=df['Age'])\n",
        "\n",
        "plt.subplot(2,1,2)\n",
        "sns.distplot(df.Age)\n",
        "\n"
      ]
    },
    {
      "cell_type": "code",
      "execution_count": null,
      "metadata": {
        "colab": {
          "background_save": true
        },
        "id": "qaLO-8AgIhEa"
      },
      "outputs": [],
      "source": [
        "#shape entrega numero de atributos y registros\n",
        "df.shape"
      ]
    },
    {
      "cell_type": "code",
      "execution_count": null,
      "metadata": {
        "colab": {
          "background_save": true
        },
        "id": "jjqCTCOUImt5"
      },
      "outputs": [],
      "source": [
        "df.info()"
      ]
    },
    {
      "cell_type": "code",
      "execution_count": null,
      "metadata": {
        "colab": {
          "background_save": true
        },
        "id": "FAXeGUWaUYD9"
      },
      "outputs": [],
      "source": [
        "#How to find Inter Quartile Range\n",
        "Q1 = df['Income'].quantile(0.25)\n",
        "Q3 = df['Income'].quantile(0.75)\n",
        "IQR = Q3 - Q1\n",
        "# ~ in boolean, represents negation\n",
        "# | represents the OR\n",
        "# & represents AND\n",
        "# This is used to remove the outliers\n",
        "df = df[~((df['Income'] < (Q1-1.5*IQR))|(df['Income'] > (Q3+1.5*IQR)))]"
      ]
    },
    {
      "cell_type": "code",
      "execution_count": null,
      "metadata": {
        "colab": {
          "background_save": true
        },
        "id": "oevkPbGqaFH1"
      },
      "outputs": [],
      "source": [
        "plt.figure(figsize=(5,3))\n",
        "# subplot (filas, columnas, posicion)\n",
        "\n",
        "plt.subplot(2,1,1)\n",
        "sns.boxplot(x=df['Income'])\n",
        "\n",
        "plt.subplot(2,1,2)\n",
        "sns.distplot(df.Income)"
      ]
    },
    {
      "cell_type": "code",
      "execution_count": null,
      "metadata": {
        "colab": {
          "background_save": true
        },
        "id": "WxFCUjxHKCrr"
      },
      "outputs": [],
      "source": [
        "# Muestra un histograma de datos\n",
        "df['Income'].hist()"
      ]
    },
    {
      "cell_type": "code",
      "execution_count": null,
      "metadata": {
        "colab": {
          "background_save": true
        },
        "id": "l0MJy9xsKvcC"
      },
      "outputs": [],
      "source": [
        "#make a boxplot of the Income\n",
        "df.boxplot(column=\"Income\", by=\"Marital_Status\")"
      ]
    },
    {
      "cell_type": "markdown",
      "metadata": {
        "id": "FQyukVu5KvUq"
      },
      "source": [
        "#Observacion\n",
        "En los clientes el maximo ingreso son 100000 USD anuales, menos para quienes"
      ]
    },
    {
      "cell_type": "code",
      "execution_count": null,
      "metadata": {
        "colab": {
          "background_save": true
        },
        "id": "ILeQCGh1QXKs"
      },
      "outputs": [],
      "source": [
        "#Una columna condicional\n",
        "df['Age_Group'] = df['Age'].apply(lambda x: 'Children' if x <= 16\n",
        "                                  else ('Youth' if 17 <= x <= 30\n",
        "                                  else ('Middle Aged' if 30 < x <=  45\n",
        "                                  else 'Old')\n",
        "))"
      ]
    },
    {
      "cell_type": "code",
      "execution_count": null,
      "metadata": {
        "colab": {
          "background_save": true
        },
        "id": "Lw_0YAM-Q65h"
      },
      "outputs": [],
      "source": [
        "df.info()"
      ]
    },
    {
      "cell_type": "code",
      "execution_count": null,
      "metadata": {
        "colab": {
          "background_save": true
        },
        "id": "5PoNLq2zRd3s"
      },
      "outputs": [],
      "source": [
        "#Makes a boxplot of income in age groups\n",
        "df.boxplot(column=\"Kidhome\", by=\"Age_Group\")"
      ]
    },
    {
      "cell_type": "code",
      "execution_count": null,
      "metadata": {
        "colab": {
          "background_save": true
        },
        "id": "HCkBLgPqSf0B"
      },
      "outputs": [],
      "source": [
        "#make a pie chart using the group as the sections\n",
        "df['Age_Group'].value_counts().plot.pie()"
      ]
    },
    {
      "cell_type": "code",
      "execution_count": null,
      "metadata": {
        "colab": {
          "background_save": true
        },
        "id": "CQD2LMoyUFar"
      },
      "outputs": [],
      "source": [
        "# Creates a new category by adding the\n",
        "df['Total_Spent'] = df['MntWines'] + df['MntFruits'] + df['MntMeatProducts'] + df['MntFishProducts'] + df['MntSweetProducts'] + df['MntGoldProds']\n",
        "\n",
        "# df[[ 'nombres de attributos ', ....]]  -> para hacer desktop tests\n",
        "df_Total_Income = df[['MntWines', 'MntFruits', 'MntMeatProducts', 'MntFishProducts','MntSweetProducts', 'MntGoldProds', 'Total_Spent']]\n"
      ]
    },
    {
      "cell_type": "code",
      "execution_count": null,
      "metadata": {
        "colab": {
          "background_save": true
        },
        "id": "s_l4UT3LBlAw"
      },
      "outputs": [],
      "source": [
        "df_Total_Income.sum()"
      ]
    },
    {
      "cell_type": "code",
      "execution_count": null,
      "metadata": {
        "colab": {
          "background_save": true
        },
        "id": "92PD5JZJWai5"
      },
      "outputs": [],
      "source": [
        "df.info()"
      ]
    },
    {
      "cell_type": "code",
      "execution_count": null,
      "metadata": {
        "colab": {
          "background_save": true
        },
        "id": "Ra-hAnuMWdUb"
      },
      "outputs": [],
      "source": [
        "#Makes a boxplot of income in age groups\n",
        "df.boxplot(column=\"Total_Spent\", by=\"Age_Group\")"
      ]
    }
  ],
  "metadata": {
    "colab": {
      "provenance": [],
      "authorship_tag": "ABX9TyNN/70KKgY1UiqhzMsB6s3y",
      "include_colab_link": true
    },
    "kernelspec": {
      "display_name": "Python 3",
      "name": "python3"
    },
    "language_info": {
      "name": "python"
    }
  },
  "nbformat": 4,
  "nbformat_minor": 0
}