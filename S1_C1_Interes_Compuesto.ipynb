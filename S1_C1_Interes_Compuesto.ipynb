{
  "nbformat": 4,
  "nbformat_minor": 0,
  "metadata": {
    "colab": {
      "provenance": [],
      "authorship_tag": "ABX9TyMKwBhedIW42EHpPcKvjZRw",
      "include_colab_link": true
    },
    "kernelspec": {
      "name": "python3",
      "display_name": "Python 3"
    },
    "language_info": {
      "name": "python"
    }
  },
  "cells": [
    {
      "cell_type": "markdown",
      "metadata": {
        "id": "view-in-github",
        "colab_type": "text"
      },
      "source": [
        "<a href=\"https://colab.research.google.com/github/RafaelAnga/Bootcamp_AI_BIT/blob/main/S1_C1_Interes_Compuesto.ipynb\" target=\"_parent\"><img src=\"https://colab.research.google.com/assets/colab-badge.svg\" alt=\"Open In Colab\"/></a>"
      ]
    },
    {
      "cell_type": "markdown",
      "source": [
        "Semana 1. Clase 1\n",
        "Reto : Tengo $1.000.000  quiero duplicarlos \n",
        "¿Cuánto tiempo tardaré en duplicar mi dinero si la tasa de interés anual es del 8.5%, con una capitalización anual?"
      ],
      "metadata": {
        "id": "N5gwPWXca_wB"
      }
    },
    {
      "cell_type": "code",
      "source": [
        "final = 2000000\n",
        "years = 0\n",
        "total = 1000000\n",
        "i = 0.085\n",
        "\n",
        "while total < final:\n",
        "    total *= (1 + i)\n",
        "    years += 1\n",
        "\n",
        "print(years)\n",
        "print(f\"The number of years to double your investment is: {years} years\")"
      ],
      "metadata": {
        "id": "Guc_HkEZbTv1",
        "colab": {
          "base_uri": "https://localhost:8080/"
        },
        "outputId": "2d1fd7c1-e6ef-4535-872c-8e9960ef53f1"
      },
      "execution_count": null,
      "outputs": [
        {
          "output_type": "stream",
          "name": "stdout",
          "text": [
            "9\n",
            "The number of years to double your investment is: 9 years\n"
          ]
        }
      ]
    },
    {
      "cell_type": "code",
      "source": [
        "import math"
      ],
      "metadata": {
        "id": "bzG7R4wfibZ7"
      },
      "execution_count": null,
      "outputs": []
    },
    {
      "cell_type": "code",
      "source": [
        "i = 0.085\n",
        "x = 2\n",
        "\n",
        "total = math.log(x)/ (math.log(1+i))\n",
        "#total = math.ceil(total)\n",
        "print(total)\n",
        "\n",
        "print(f\"The number of years to {x}X your investment is: {years} years\")"
      ],
      "metadata": {
        "colab": {
          "base_uri": "https://localhost:8080/"
        },
        "id": "9XJi5kXgjXJj",
        "outputId": "00d7eb5b-0486-4bf4-d6bc-a71f15ebb69d"
      },
      "execution_count": null,
      "outputs": [
        {
          "output_type": "stream",
          "name": "stdout",
          "text": [
            "8.49653458052555\n",
            "The number of years to 2X your investment is: 9 years\n"
          ]
        }
      ]
    },
    {
      "cell_type": "markdown",
      "source": [
        "Calcular funcion para calcular valor futuro\n"
      ],
      "metadata": {
        "id": "_dTgnX4is_LB"
      }
    },
    {
      "cell_type": "code",
      "source": [
        "def amount_after_years(P,i,n):\n",
        "  total = P*(1+i)**n\n",
        "  return total\n",
        "\n",
        "\n",
        "total = amount_after_years(1000000,0.085, 9)\n",
        "total = round(total,2)\n",
        "print(f\"total amount after 9 years is: {total}\")"
      ],
      "metadata": {
        "colab": {
          "base_uri": "https://localhost:8080/"
        },
        "id": "otOJV1L7z3z5",
        "outputId": "7f07f209-b79a-4eba-9010-40eb1af4f9c6"
      },
      "execution_count": null,
      "outputs": [
        {
          "output_type": "stream",
          "name": "stdout",
          "text": [
            "total amount after 9 years is: 2083855.71\n"
          ]
        }
      ]
    },
    {
      "cell_type": "markdown",
      "source": [
        "Calcular funcion para calcular valor inicial"
      ],
      "metadata": {
        "id": "P_1e0SHT3mhX"
      }
    },
    {
      "cell_type": "code",
      "source": [
        "def initial_investment(A,i,n):\n",
        "  total = A / (1+i)**n\n",
        "  return total\n",
        "\n",
        "total = initial_investment(2083855.71, 0.085, 9)\n",
        "total = round(total,2)\n",
        "print(f\"Initial amount after 9 years is: {total}\")"
      ],
      "metadata": {
        "colab": {
          "base_uri": "https://localhost:8080/"
        },
        "id": "dh9P7nTY3ewA",
        "outputId": "1d65498c-f5e3-4223-988b-d2e6c720b579"
      },
      "execution_count": null,
      "outputs": [
        {
          "output_type": "stream",
          "name": "stdout",
          "text": [
            "Initial amount after 9 years is: 1000000.0\n"
          ]
        }
      ]
    },
    {
      "cell_type": "markdown",
      "source": [
        "Calculate interest rate\n"
      ],
      "metadata": {
        "id": "pEc13Qyk4VuY"
      }
    },
    {
      "cell_type": "code",
      "source": [
        "def interest_rate(P, A, n):\n",
        "  total = ((A/P)**(1/n))-1\n",
        "  return total\n",
        "\n",
        "total = interest_rate(1000000,2000000,8.49653458052555)\n",
        "total = round(total,4)\n",
        "print(f\"The interest rate for the final amount given the intial amound the time is {total} percent\")"
      ],
      "metadata": {
        "colab": {
          "base_uri": "https://localhost:8080/"
        },
        "id": "alLG6qmV4X8n",
        "outputId": "49c886b3-aef9-46c5-e29d-d2f12e3d4b19"
      },
      "execution_count": null,
      "outputs": [
        {
          "output_type": "stream",
          "name": "stdout",
          "text": [
            "The interest rate for the final amount given the intial amound the time is 0.085 percent\n"
          ]
        }
      ]
    },
    {
      "cell_type": "markdown",
      "source": [
        "Actividad 5\n",
        "\n",
        "\n",
        "Generar codigo para seleccionar el parametro a calcular de la funcion de interes compuesto.\n",
        "\n",
        "Para poder calcular lo que quieran.\n",
        "\n",
        "n: numero de periodos\n",
        "A: valor furuto\n",
        "P: Capital inicial\n",
        "i: taza de interes\n",
        "\n"
      ],
      "metadata": {
        "id": "iZkxXV8S7h7Y"
      }
    },
    {
      "cell_type": "code",
      "source": [
        "import math\n",
        "\n",
        "\n",
        "print(\"\"\"\n",
        "For our compound interest formula, what would you like to calculate?\n",
        "Type the correct letter:\n",
        "p: Initial Investment\n",
        "a: Final return\n",
        "n: number of terms\n",
        "i: interest rate\n",
        "\"\"\")\n",
        "answer = input(\"What would you like to calculate?:  \")\n",
        "lowercase_input = answer.lower()\n",
        "\n",
        "if lowercase_input == 'p':\n",
        "  def initial_investment(A,i,n):\n",
        "    total = A / (1+i)**n\n",
        "    return total\n",
        "  accrude = float(input(\"How much money was accruded: \"))\n",
        "  interest = float(input(\"What is the interest rate in decimal: \"))\n",
        "  terms = int(input(\"What is the number of terms: \"))\n",
        "  total = initial_investment(accrude, interest, terms)\n",
        "  total = round(total,2)\n",
        "  print(f\"Initial amount invested was: {total}\")\n",
        "\n",
        "elif lowercase_input == 'a':\n",
        "  def amount_after_years(P,i,n):\n",
        "    total_amount = P*(1+i)**n\n",
        "    return total_amount\n",
        "  initial_investment = float(input(\"Type in the initial investment: \"))\n",
        "  interest = float(input(\"Type in interest rate: \"))\n",
        "  terms = float(input(\"Type in number of terms: \"))\n",
        "\n",
        "  total = amount_after_years(initial_investment,interest, terms)\n",
        "  total = round(total,2)\n",
        "  print(f\"total amount after 9 years is: {total}\")\n",
        "\n",
        "elif lowercase_input == 'n':\n",
        "  x = float(input(\"Type much would you like to multiply your investments: \"))\n",
        "  i = float(input(\"Type interest rate: \"))\n",
        "  total = math.log(x)/ (math.log(1+i))\n",
        "  total = math.ceil(total)\n",
        "\n",
        "  print(f\"The number of years to {x}X your investment is: {total} years\")\n",
        "\n",
        "elif lowercase_input == 'i':\n",
        "  def interest_rate(P, A, n):\n",
        "    total = ((A/P)**(1/n))-1\n",
        "    return total\n",
        "\n",
        "  initial = float(input(\"Type initial investment: \"))\n",
        "  final = float(input(\"Type in final amount: \"))\n",
        "  n = float(input(\"Type in number of terms that passed: \"))\n",
        "  total = interest_rate(initial,final, n)\n",
        "  total = round(total,4)\n",
        "  print(f\"The interest rate for the final amount given the intial amound the time is {total} percent\")\n",
        "\n",
        "else:\n",
        "  print(\"Answer not valid\")"
      ],
      "metadata": {
        "colab": {
          "base_uri": "https://localhost:8080/"
        },
        "id": "W4YDNSxE88Q4",
        "outputId": "7ef9fda7-bf72-467f-a5c8-dbdbd51c00e3"
      },
      "execution_count": null,
      "outputs": [
        {
          "output_type": "stream",
          "name": "stdout",
          "text": [
            "\n",
            "For our compound interest formula, what would you like to calculate?\n",
            "Type the correct letter:\n",
            "p: Initial Investment\n",
            "a: Final return\n",
            "n: number of terms\n",
            "i: interest rate\n",
            "\n",
            "What would you like to calculate?:  i\n",
            "Type initial investment: 1000000\n",
            "Type in final amount: 2000000\n",
            "Type in number of terms that passed: 8.49345\n",
            "The interest rate for the final amount given the intial amound the time is 0.085 percent\n"
          ]
        }
      ]
    },
    {
      "cell_type": "markdown",
      "source": [],
      "metadata": {
        "id": "RrIhqnUz7sT6"
      }
    }
  ]
}