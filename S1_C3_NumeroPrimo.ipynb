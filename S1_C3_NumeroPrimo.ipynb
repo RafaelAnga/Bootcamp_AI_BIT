{
  "nbformat": 4,
  "nbformat_minor": 0,
  "metadata": {
    "colab": {
      "provenance": [],
      "authorship_tag": "ABX9TyMhsAs9ElXYMsT+/NsVQKbZ",
      "include_colab_link": true
    },
    "kernelspec": {
      "name": "python3",
      "display_name": "Python 3"
    },
    "language_info": {
      "name": "python"
    }
  },
  "cells": [
    {
      "cell_type": "markdown",
      "metadata": {
        "id": "view-in-github",
        "colab_type": "text"
      },
      "source": [
        "<a href=\"https://colab.research.google.com/github/RafaelAnga/Bootcamp_AI_BIT/blob/main/S1_C3_NumeroPrimo.ipynb\" target=\"_parent\"><img src=\"https://colab.research.google.com/assets/colab-badge.svg\" alt=\"Open In Colab\"/></a>"
      ]
    },
    {
      "cell_type": "markdown",
      "source": [
        "#Numero Primo\n",
        "Diseñar una función *es_primo* toma un número como entrada y determina si es un número primo.\n",
        "\n",
        "DEFINICIÓN: Un número primo es aquel que solo tiene dos divisores: 1 y él mismo.  Si el número es divisible por cualquier otro número aparte de 1 y él mismo, no es primo.\n",
        "Parámetros: numero (int): El número que queremos verificar si es primo.\n",
        "Return: bool: True si el número es primo, False si no lo es.s"
      ],
      "metadata": {
        "id": "UEx7FyNpzGOr"
      }
    },
    {
      "cell_type": "code",
      "execution_count": 69,
      "metadata": {
        "colab": {
          "base_uri": "https://localhost:8080/"
        },
        "id": "qDe4vVKwy0Gj",
        "outputId": "1755450b-0947-4e42-a7ef-52f3d247db5f"
      },
      "outputs": [
        {
          "output_type": "stream",
          "name": "stdout",
          "text": [
            "Enter a number to check if its prime: f\n",
            "Invalid entry\n"
          ]
        }
      ],
      "source": [
        "import math\n",
        "\n",
        "def es_primo(n):\n",
        "    if n < 2:\n",
        "        return False\n",
        "    elif n == 2:\n",
        "        return True\n",
        "    elif n % 2 == 0:\n",
        "        return False\n",
        "    for i in range(3, int(math.sqrt(n)) + 1,2):\n",
        "      if n % i == 0:\n",
        "        return False\n",
        "    return True\n",
        "\n",
        "\n",
        "\n",
        "try:\n",
        "  number = int(input(\"Enter a number to check if its prime: \"))\n",
        "  answer = es_primo(number)\n",
        "  if answer == True:\n",
        "    print(f\"The number {number}  is prime\")\n",
        "  else:\n",
        "    print(f\"The number {number} is not prime\")\n",
        "except ValueError:\n",
        "  print(\"Invalid entry\")\n"
      ]
    }
  ]
}